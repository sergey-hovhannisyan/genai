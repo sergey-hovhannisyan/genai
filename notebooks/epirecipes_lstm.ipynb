{
 "cells": [
  {
   "cell_type": "code",
   "execution_count": 1,
   "metadata": {},
   "outputs": [],
   "source": [
    "import torch\n",
    "import torch.nn as nn\n",
    "from torch.utils.data import DataLoader, Dataset\n",
    "from torch.optim import Optimizer\n",
    "\n",
    "import json\n",
    "from typing import Dict, Tuple, List\n",
    "import numpy as np\n",
    "import matplotlib.pyplot as plt\n",
    "%matplotlib inline"
   ]
  },
  {
   "cell_type": "code",
   "execution_count": 2,
   "metadata": {},
   "outputs": [],
   "source": [
    "with open('../data/epirecipes/full_format_recipes.json') as json_data:\n",
    "    text = json.load(json_data)\n",
    "\n",
    "text = [\n",
    "    'Recipe for ' + x['title'] + ' | ' + ''.join(x['directions'])\n",
    "    for x in text\n",
    "    if 'title' in x\n",
    "    and x['title'] is not None\n",
    "    and 'directions' in x\n",
    "    and x['directions'] is not None]"
   ]
  },
  {
   "cell_type": "code",
   "execution_count": 3,
   "metadata": {},
   "outputs": [],
   "source": [
    "import string, re\n",
    "def pad_punctuation(s:str):\n",
    "    s = re.sub(f\"([{string.punctuation}])\", r' \\1 ', s)\n",
    "    s = re.sub(' +', ' ', s)\n",
    "    return s.lower()\n",
    "\n",
    "text = [pad_punctuation(x) for x in text]"
   ]
  },
  {
   "cell_type": "code",
   "execution_count": 4,
   "metadata": {},
   "outputs": [],
   "source": [
    "from collections import Counter\n",
    "VOCAB_SIZE = 10000\n",
    "word_count = Counter(word for recipe in text for word in recipe.split())\n",
    "vocab = ['<pad>', '<unk>'] + [word for word, _ in word_count.most_common(VOCAB_SIZE)]\n",
    "word2idx = {word:index for index, word in enumerate(vocab)}\n",
    "tokenizer = lambda x: [word2idx.get(word, word2idx['<unk>']) for word in x.split()]"
   ]
  },
  {
   "cell_type": "code",
   "execution_count": 20,
   "metadata": {},
   "outputs": [],
   "source": [
    "class Epirecipes(Dataset):\n",
    "    def __init__(self, data:List[List[int]], seq_len:int):\n",
    "        self.data = [[word2idx['<pad>']] * seq_len + recipe for recipe in data]\n",
    "        self.seq_len = seq_len\n",
    "        \n",
    "    def __getitem__(self, index) -> torch.Tensor:\n",
    "        rand_idx = np.random.randint(0, len(self.data[index]) - self.seq_len)\n",
    "        X =  torch.tensor(self.data[index][rand_idx:rand_idx+self.seq_len])\n",
    "        y = torch.tensor(self.data[index][rand_idx+self.seq_len])\n",
    "        return X, y\n",
    "    \n",
    "    def __len__(self) -> int:\n",
    "        return len(self.data)\n",
    "\n",
    "SEQ_LEN = 256\n",
    "recipes = Epirecipes([tokenizer(x) for x in text], SEQ_LEN)\n",
    "\n",
    "dataloader = DataLoader(recipes, batch_size=32, shuffle=True)"
   ]
  },
  {
   "cell_type": "code",
   "execution_count": 24,
   "metadata": {},
   "outputs": [],
   "source": [
    "class Cell(nn.Module):\n",
    "    def __init__(self):\n",
    "        ...\n",
    "\n",
    "    def forward(self, input):\n",
    "        ...\n",
    "\n",
    "class LSTM(nn.Module):\n",
    "    def __init__(self):\n",
    "        ...\n",
    "\n",
    "    def forward(self, input):\n",
    "        ..."
   ]
  }
 ],
 "metadata": {
  "kernelspec": {
   "display_name": "Python 3",
   "language": "python",
   "name": "python3"
  },
  "language_info": {
   "codemirror_mode": {
    "name": "ipython",
    "version": 3
   },
   "file_extension": ".py",
   "mimetype": "text/x-python",
   "name": "python",
   "nbconvert_exporter": "python",
   "pygments_lexer": "ipython3",
   "version": "3.11.2"
  }
 },
 "nbformat": 4,
 "nbformat_minor": 2
}
